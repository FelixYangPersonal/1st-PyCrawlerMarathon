{
 "cells": [
  {
   "cell_type": "markdown",
   "metadata": {},
   "source": [
    "# Ettoday 網路爬蟲實作練習\n",
    "\n",
    "\n",
    "* 能夠利用 Request + BeatifulSour 撰寫爬蟲，並存放到合適的資料結構\n"
   ]
  },
  {
   "cell_type": "markdown",
   "metadata": {},
   "source": [
    "## 作業目標\n",
    "\n",
    "根據範例 ，完成以下問題：\n",
    "\n",
    "* ① 取出今天所有的發文\n",
    "* ② 如果想要依照類別分類，怎麼儲存會比較好？\n",
    "* ③ 哪一個類別的文章最多\n",
    "\n",
    "\n"
   ]
  },
  {
   "cell_type": "code",
   "execution_count": 1,
   "metadata": {},
   "outputs": [],
   "source": [
    "import requests\n",
    "import datetime\n",
    "import re\n",
    "import pandas as pd\n",
    "from bs4 import BeautifulSoup\n",
    "\n",
    "columns = ['日期', '類別', '標題']\n",
    "\n",
    "url = 'https://www.ettoday.net/news/news-list.htm'\n",
    "r = requests.get(url)\n",
    "\n",
    "soup = BeautifulSoup(r.text, \"html5lib\")"
   ]
  },
  {
   "cell_type": "markdown",
   "metadata": {},
   "source": [
    "### ① 取出今天所有的發文"
   ]
  },
  {
   "cell_type": "code",
   "execution_count": 2,
   "metadata": {
    "scrolled": false
   },
   "outputs": [
    {
     "name": "stdout",
     "output_type": "stream",
     "text": [
      "2019/12/09 02:10 華研代理聲林之王上架業務挹注　11月營收達1.27億元表現持平\n",
      "2019/12/09 01:34 南方澳「米糕名店」半夜偷倒廚餘！超噁畫面曝光…海面漂散臭穢物\n",
      "2019/12/09 01:20 蔡健雅罕見公開談感情低潮　「希望好好前進」語帶玄機\n",
      "2019/12/09 00:49 影／棒球聯賽1分險勝大連大學　中原大學總教練嘆：非常吃驚！\n",
      "2019/12/09 00:47 影／北工大拼三連霸！　江仲豪嘆「壓力非常大」：沒有進步空間\n",
      "2019/12/09 00:40 豆漿店打烊部長來了！店員驚見「國軍大咖」買走最後1顆水煎包：100分\n",
      "2019/12/09 00:32 世正被偶像IU翻牌！　演唱獲讚「像畫一樣」…追星成功：我上輩子救了國家？\n",
      "2019/12/09 00:26 杜娃黎波新造型被嫌醜！　褲子衣服「妹妹那邊」緊勒相連…網：要怎麼上廁所\n",
      "2019/12/09 00:25 高雄人為何討厭民進黨　宋楚瑜分析：蔡英文沒管好部屬\n",
      "2019/12/09 00:22 女生會心動！票選暖男包包必備TOP5物品　衛生紙是必須、第一名卻是巧克力？\n",
      "2019/12/09 00:21 快訊／今年才和BTS合作！Juice Wrld「癲癇發作」過世　得年21歲\n",
      "2019/12/09 00:17 《蒙面》女歌手爆：憲哥說過要娶我！　吳宗憲嚇呆…她一揭面「原來是台灣天后」\n",
      "2019/12/09 00:14 迷戀正妹直播主！打工仔斗內40萬「見面遭冷落」…氣炸持鐵鎚爆敲她頭\n",
      "2019/12/09 00:06 企排／中纖女排外援Matea穩坐得分后　極速超跑攻勢未發揮\n",
      "2019/12/09 00:05 ABL／25歲的元老成員　「初代夢想家」吳松蔚、陳昱翰驚奇之旅\n",
      "2019/12/09 00:05 綠色威權時代來臨　議員痛批「網軍不倒，台灣不會好」\n",
      "2019/12/09 00:01 韓、張、朱「鑽石鐵三角」成軍！藍軍新戰袍曝光8萬人爭睹\n"
     ]
    }
   ],
   "source": [
    "pattern ='[0-9]{4}(?:/[0-9]{2}){2}'\n",
    "today = datetime.date.today().strftime(\"%Y/%m/%d\")\n",
    "\n",
    "articles = []\n",
    "\n",
    "for d in soup.find(class_=\"part_list_2\").find_all('h3'):\n",
    "    if re.match(pattern, d.find(class_=\"date\").text)[0] == today:\n",
    "        print(d.find(class_=\"date\").text, d.find_all('a')[-1].text)\n",
    "        articles.append([d.find(class_=\"date\").text, d.find('em').text, d.find_all('a')[-1].text])"
   ]
  },
  {
   "cell_type": "markdown",
   "metadata": {},
   "source": [
    "### ② 如果想要依照類別分類，怎麼儲存會比較好？"
   ]
  },
  {
   "cell_type": "code",
   "execution_count": 3,
   "metadata": {},
   "outputs": [
    {
     "data": {
      "text/html": [
       "<div>\n",
       "<style scoped>\n",
       "    .dataframe tbody tr th:only-of-type {\n",
       "        vertical-align: middle;\n",
       "    }\n",
       "\n",
       "    .dataframe tbody tr th {\n",
       "        vertical-align: top;\n",
       "    }\n",
       "\n",
       "    .dataframe thead th {\n",
       "        text-align: right;\n",
       "    }\n",
       "</style>\n",
       "<table border=\"1\" class=\"dataframe\">\n",
       "  <thead>\n",
       "    <tr style=\"text-align: right;\">\n",
       "      <th></th>\n",
       "      <th>日期</th>\n",
       "      <th>類別</th>\n",
       "      <th>標題</th>\n",
       "    </tr>\n",
       "  </thead>\n",
       "  <tbody>\n",
       "    <tr>\n",
       "      <td>0</td>\n",
       "      <td>2019/12/09 02:10</td>\n",
       "      <td>財經</td>\n",
       "      <td>華研代理聲林之王上架業務挹注　11月營收達1.27億元表現持平</td>\n",
       "    </tr>\n",
       "    <tr>\n",
       "      <td>1</td>\n",
       "      <td>2019/12/09 01:34</td>\n",
       "      <td>生活</td>\n",
       "      <td>南方澳「米糕名店」半夜偷倒廚餘！超噁畫面曝光…海面漂散臭穢物</td>\n",
       "    </tr>\n",
       "    <tr>\n",
       "      <td>2</td>\n",
       "      <td>2019/12/09 01:20</td>\n",
       "      <td>影劇</td>\n",
       "      <td>蔡健雅罕見公開談感情低潮　「希望好好前進」語帶玄機</td>\n",
       "    </tr>\n",
       "    <tr>\n",
       "      <td>3</td>\n",
       "      <td>2019/12/09 00:49</td>\n",
       "      <td>大陸</td>\n",
       "      <td>影／棒球聯賽1分險勝大連大學　中原大學總教練嘆：非常吃驚！</td>\n",
       "    </tr>\n",
       "    <tr>\n",
       "      <td>4</td>\n",
       "      <td>2019/12/09 00:47</td>\n",
       "      <td>大陸</td>\n",
       "      <td>影／北工大拼三連霸！　江仲豪嘆「壓力非常大」：沒有進步空間</td>\n",
       "    </tr>\n",
       "    <tr>\n",
       "      <td>5</td>\n",
       "      <td>2019/12/09 00:40</td>\n",
       "      <td>網搜</td>\n",
       "      <td>豆漿店打烊部長來了！店員驚見「國軍大咖」買走最後1顆水煎包：100分</td>\n",
       "    </tr>\n",
       "    <tr>\n",
       "      <td>6</td>\n",
       "      <td>2019/12/09 00:32</td>\n",
       "      <td>影劇</td>\n",
       "      <td>世正被偶像IU翻牌！　演唱獲讚「像畫一樣」…追星成功：我上輩子救了國家？</td>\n",
       "    </tr>\n",
       "    <tr>\n",
       "      <td>7</td>\n",
       "      <td>2019/12/09 00:26</td>\n",
       "      <td>影劇</td>\n",
       "      <td>杜娃黎波新造型被嫌醜！　褲子衣服「妹妹那邊」緊勒相連…網：要怎麼上廁所</td>\n",
       "    </tr>\n",
       "    <tr>\n",
       "      <td>8</td>\n",
       "      <td>2019/12/09 00:25</td>\n",
       "      <td>政治</td>\n",
       "      <td>高雄人為何討厭民進黨　宋楚瑜分析：蔡英文沒管好部屬</td>\n",
       "    </tr>\n",
       "    <tr>\n",
       "      <td>9</td>\n",
       "      <td>2019/12/09 00:22</td>\n",
       "      <td>時尚</td>\n",
       "      <td>女生會心動！票選暖男包包必備TOP5物品　衛生紙是必須、第一名卻是巧克力？</td>\n",
       "    </tr>\n",
       "    <tr>\n",
       "      <td>10</td>\n",
       "      <td>2019/12/09 00:21</td>\n",
       "      <td>影劇</td>\n",
       "      <td>快訊／今年才和BTS合作！Juice Wrld「癲癇發作」過世　得年21歲</td>\n",
       "    </tr>\n",
       "    <tr>\n",
       "      <td>11</td>\n",
       "      <td>2019/12/09 00:17</td>\n",
       "      <td>影劇</td>\n",
       "      <td>《蒙面》女歌手爆：憲哥說過要娶我！　吳宗憲嚇呆…她一揭面「原來是台灣天后」</td>\n",
       "    </tr>\n",
       "    <tr>\n",
       "      <td>12</td>\n",
       "      <td>2019/12/09 00:14</td>\n",
       "      <td>大陸</td>\n",
       "      <td>迷戀正妹直播主！打工仔斗內40萬「見面遭冷落」…氣炸持鐵鎚爆敲她頭</td>\n",
       "    </tr>\n",
       "    <tr>\n",
       "      <td>13</td>\n",
       "      <td>2019/12/09 00:06</td>\n",
       "      <td>體育</td>\n",
       "      <td>企排／中纖女排外援Matea穩坐得分后　極速超跑攻勢未發揮</td>\n",
       "    </tr>\n",
       "    <tr>\n",
       "      <td>14</td>\n",
       "      <td>2019/12/09 00:05</td>\n",
       "      <td>體育</td>\n",
       "      <td>ABL／25歲的元老成員　「初代夢想家」吳松蔚、陳昱翰驚奇之旅</td>\n",
       "    </tr>\n",
       "    <tr>\n",
       "      <td>15</td>\n",
       "      <td>2019/12/09 00:05</td>\n",
       "      <td>政治</td>\n",
       "      <td>綠色威權時代來臨　議員痛批「網軍不倒，台灣不會好」</td>\n",
       "    </tr>\n",
       "    <tr>\n",
       "      <td>16</td>\n",
       "      <td>2019/12/09 00:01</td>\n",
       "      <td>政治</td>\n",
       "      <td>韓、張、朱「鑽石鐵三角」成軍！藍軍新戰袍曝光8萬人爭睹</td>\n",
       "    </tr>\n",
       "  </tbody>\n",
       "</table>\n",
       "</div>"
      ],
      "text/plain": [
       "                  日期  類別                                     標題\n",
       "0   2019/12/09 02:10  財經        華研代理聲林之王上架業務挹注　11月營收達1.27億元表現持平\n",
       "1   2019/12/09 01:34  生活         南方澳「米糕名店」半夜偷倒廚餘！超噁畫面曝光…海面漂散臭穢物\n",
       "2   2019/12/09 01:20  影劇              蔡健雅罕見公開談感情低潮　「希望好好前進」語帶玄機\n",
       "3   2019/12/09 00:49  大陸          影／棒球聯賽1分險勝大連大學　中原大學總教練嘆：非常吃驚！\n",
       "4   2019/12/09 00:47  大陸          影／北工大拼三連霸！　江仲豪嘆「壓力非常大」：沒有進步空間\n",
       "5   2019/12/09 00:40  網搜     豆漿店打烊部長來了！店員驚見「國軍大咖」買走最後1顆水煎包：100分\n",
       "6   2019/12/09 00:32  影劇   世正被偶像IU翻牌！　演唱獲讚「像畫一樣」…追星成功：我上輩子救了國家？\n",
       "7   2019/12/09 00:26  影劇    杜娃黎波新造型被嫌醜！　褲子衣服「妹妹那邊」緊勒相連…網：要怎麼上廁所\n",
       "8   2019/12/09 00:25  政治              高雄人為何討厭民進黨　宋楚瑜分析：蔡英文沒管好部屬\n",
       "9   2019/12/09 00:22  時尚  女生會心動！票選暖男包包必備TOP5物品　衛生紙是必須、第一名卻是巧克力？\n",
       "10  2019/12/09 00:21  影劇  快訊／今年才和BTS合作！Juice Wrld「癲癇發作」過世　得年21歲\n",
       "11  2019/12/09 00:17  影劇  《蒙面》女歌手爆：憲哥說過要娶我！　吳宗憲嚇呆…她一揭面「原來是台灣天后」\n",
       "12  2019/12/09 00:14  大陸      迷戀正妹直播主！打工仔斗內40萬「見面遭冷落」…氣炸持鐵鎚爆敲她頭\n",
       "13  2019/12/09 00:06  體育          企排／中纖女排外援Matea穩坐得分后　極速超跑攻勢未發揮\n",
       "14  2019/12/09 00:05  體育        ABL／25歲的元老成員　「初代夢想家」吳松蔚、陳昱翰驚奇之旅\n",
       "15  2019/12/09 00:05  政治              綠色威權時代來臨　議員痛批「網軍不倒，台灣不會好」\n",
       "16  2019/12/09 00:01  政治            韓、張、朱「鑽石鐵三角」成軍！藍軍新戰袍曝光8萬人爭睹"
      ]
     },
     "execution_count": 3,
     "metadata": {},
     "output_type": "execute_result"
    }
   ],
   "source": [
    "# '''\n",
    "# 取出所有分類 (目前用不到)\n",
    "# '''\n",
    "# menus = []\n",
    "\n",
    "# for li in soup.find(class_=\"part_menu_2\").find_all('li'):\n",
    "#     for menu in li.findAll('a'):\n",
    "#         menus.append(menu.string)\n",
    "# menus = menus[1:] # 去掉總覽\n",
    "\n",
    "df = pd.DataFrame(articles, columns=columns)\n",
    "df"
   ]
  },
  {
   "cell_type": "code",
   "execution_count": 4,
   "metadata": {},
   "outputs": [
    {
     "data": {
      "text/plain": [
       "{'大陸': Int64Index([3, 4, 12], dtype='int64'),\n",
       " '影劇': Int64Index([2, 6, 7, 10, 11], dtype='int64'),\n",
       " '政治': Int64Index([8, 15, 16], dtype='int64'),\n",
       " '時尚': Int64Index([9], dtype='int64'),\n",
       " '生活': Int64Index([1], dtype='int64'),\n",
       " '網搜': Int64Index([5], dtype='int64'),\n",
       " '財經': Int64Index([0], dtype='int64'),\n",
       " '體育': Int64Index([13, 14], dtype='int64')}"
      ]
     },
     "execution_count": 4,
     "metadata": {},
     "output_type": "execute_result"
    }
   ],
   "source": [
    "grouped = df.groupby('類別')\n",
    "grouped.groups"
   ]
  },
  {
   "cell_type": "markdown",
   "metadata": {},
   "source": [
    "### ③ 哪一個類別的文章最多"
   ]
  },
  {
   "cell_type": "code",
   "execution_count": 5,
   "metadata": {
    "scrolled": true
   },
   "outputs": [
    {
     "data": {
      "text/html": [
       "<div>\n",
       "<style scoped>\n",
       "    .dataframe tbody tr th:only-of-type {\n",
       "        vertical-align: middle;\n",
       "    }\n",
       "\n",
       "    .dataframe tbody tr th {\n",
       "        vertical-align: top;\n",
       "    }\n",
       "\n",
       "    .dataframe thead th {\n",
       "        text-align: right;\n",
       "    }\n",
       "</style>\n",
       "<table border=\"1\" class=\"dataframe\">\n",
       "  <thead>\n",
       "    <tr style=\"text-align: right;\">\n",
       "      <th></th>\n",
       "      <th>文章數量</th>\n",
       "      <th>排名</th>\n",
       "    </tr>\n",
       "    <tr>\n",
       "      <th>類別</th>\n",
       "      <th></th>\n",
       "      <th></th>\n",
       "    </tr>\n",
       "  </thead>\n",
       "  <tbody>\n",
       "    <tr>\n",
       "      <td>影劇</td>\n",
       "      <td>5</td>\n",
       "      <td>1.0</td>\n",
       "    </tr>\n",
       "    <tr>\n",
       "      <td>大陸</td>\n",
       "      <td>3</td>\n",
       "      <td>2.0</td>\n",
       "    </tr>\n",
       "    <tr>\n",
       "      <td>政治</td>\n",
       "      <td>3</td>\n",
       "      <td>2.0</td>\n",
       "    </tr>\n",
       "    <tr>\n",
       "      <td>體育</td>\n",
       "      <td>2</td>\n",
       "      <td>4.0</td>\n",
       "    </tr>\n",
       "    <tr>\n",
       "      <td>時尚</td>\n",
       "      <td>1</td>\n",
       "      <td>5.0</td>\n",
       "    </tr>\n",
       "    <tr>\n",
       "      <td>生活</td>\n",
       "      <td>1</td>\n",
       "      <td>5.0</td>\n",
       "    </tr>\n",
       "    <tr>\n",
       "      <td>網搜</td>\n",
       "      <td>1</td>\n",
       "      <td>5.0</td>\n",
       "    </tr>\n",
       "    <tr>\n",
       "      <td>財經</td>\n",
       "      <td>1</td>\n",
       "      <td>5.0</td>\n",
       "    </tr>\n",
       "  </tbody>\n",
       "</table>\n",
       "</div>"
      ],
      "text/plain": [
       "    文章數量   排名\n",
       "類別           \n",
       "影劇     5  1.0\n",
       "大陸     3  2.0\n",
       "政治     3  2.0\n",
       "體育     2  4.0\n",
       "時尚     1  5.0\n",
       "生活     1  5.0\n",
       "網搜     1  5.0\n",
       "財經     1  5.0"
      ]
     },
     "execution_count": 5,
     "metadata": {},
     "output_type": "execute_result"
    }
   ],
   "source": [
    "df2 = pd.DataFrame(df.groupby('類別').size(), columns=['文章數量'])\n",
    "df2['排名'] = df2.rank(method='min', ascending=False)\n",
    "df2.sort_values(by=['排名'])"
   ]
  }
 ],
 "metadata": {
  "kernelspec": {
   "display_name": "Python 3",
   "language": "python",
   "name": "python3"
  },
  "language_info": {
   "codemirror_mode": {
    "name": "ipython",
    "version": 3
   },
   "file_extension": ".py",
   "mimetype": "text/x-python",
   "name": "python",
   "nbconvert_exporter": "python",
   "pygments_lexer": "ipython3",
   "version": "3.7.4"
  }
 },
 "nbformat": 4,
 "nbformat_minor": 2
}
