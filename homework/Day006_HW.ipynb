{
 "cells": [
  {
   "cell_type": "markdown",
   "metadata": {},
   "source": [
    "# API 資料串接 - 以 知乎 API 實作範例\n",
    "\n",
    "\n",
    "\n",
    "* 了解知乎 API 使用方式與回傳內容\n",
    "* 撰寫程式存取 API 且添加標頭\n",
    "\n",
    "\n"
   ]
  },
  {
   "cell_type": "markdown",
   "metadata": {},
   "source": [
    "## 作業目標\n",
    "\n",
    "* 根據範例提供的 API ，完成以下問題：\n",
    "\n",
    "    1. 取出知乎問題發問時間\n",
    "    2. 取出第一筆與最後一筆回答的時間\n"
   ]
  },
  {
   "cell_type": "code",
   "execution_count": 1,
   "metadata": {},
   "outputs": [],
   "source": [
    "import requests\n",
    "import json\n",
    "import pandas as pd\n",
    "from datetime import datetime"
   ]
  },
  {
   "cell_type": "code",
   "execution_count": 2,
   "metadata": {},
   "outputs": [
    {
     "data": {
      "text/html": [
       "<div>\n",
       "<style scoped>\n",
       "    .dataframe tbody tr th:only-of-type {\n",
       "        vertical-align: middle;\n",
       "    }\n",
       "\n",
       "    .dataframe tbody tr th {\n",
       "        vertical-align: top;\n",
       "    }\n",
       "\n",
       "    .dataframe thead th {\n",
       "        text-align: right;\n",
       "    }\n",
       "</style>\n",
       "<table border=\"1\" class=\"dataframe\">\n",
       "  <thead>\n",
       "    <tr style=\"text-align: right;\">\n",
       "      <th></th>\n",
       "      <th>id</th>\n",
       "      <th>type</th>\n",
       "      <th>answer_type</th>\n",
       "      <th>question</th>\n",
       "      <th>author</th>\n",
       "      <th>url</th>\n",
       "      <th>is_collapsed</th>\n",
       "      <th>created_time</th>\n",
       "      <th>updated_time</th>\n",
       "      <th>extras</th>\n",
       "      <th>is_copyable</th>\n",
       "      <th>relationship</th>\n",
       "    </tr>\n",
       "  </thead>\n",
       "  <tbody>\n",
       "    <tr>\n",
       "      <td>0</td>\n",
       "      <td>683070334</td>\n",
       "      <td>answer</td>\n",
       "      <td>normal</td>\n",
       "      <td>{'type': 'question', 'id': 55493026, 'title': ...</td>\n",
       "      <td>{'id': '36f69162230003d316d0b8a6d8da20ba', 'ur...</td>\n",
       "      <td>https://www.zhihu.com/api/v4/answers/683070334</td>\n",
       "      <td>False</td>\n",
       "      <td>1557824412</td>\n",
       "      <td>1557824412</td>\n",
       "      <td></td>\n",
       "      <td>True</td>\n",
       "      <td>{'upvoted_followees': []}</td>\n",
       "    </tr>\n",
       "    <tr>\n",
       "      <td>1</td>\n",
       "      <td>163642949</td>\n",
       "      <td>answer</td>\n",
       "      <td>normal</td>\n",
       "      <td>{'type': 'question', 'id': 55493026, 'title': ...</td>\n",
       "      <td>{'id': '788f207a6bf8f66c5bad79bd0f011065', 'ur...</td>\n",
       "      <td>https://www.zhihu.com/api/v4/answers/163642949</td>\n",
       "      <td>False</td>\n",
       "      <td>1493707703</td>\n",
       "      <td>1493708357</td>\n",
       "      <td></td>\n",
       "      <td>False</td>\n",
       "      <td>{'upvoted_followees': []}</td>\n",
       "    </tr>\n",
       "    <tr>\n",
       "      <td>2</td>\n",
       "      <td>637938925</td>\n",
       "      <td>answer</td>\n",
       "      <td>normal</td>\n",
       "      <td>{'type': 'question', 'id': 55493026, 'title': ...</td>\n",
       "      <td>{'id': 'e8c4768eaa41e3749f7e8bc5ac6aa74b', 'ur...</td>\n",
       "      <td>https://www.zhihu.com/api/v4/answers/637938925</td>\n",
       "      <td>False</td>\n",
       "      <td>1554085028</td>\n",
       "      <td>1558451618</td>\n",
       "      <td></td>\n",
       "      <td>True</td>\n",
       "      <td>{'upvoted_followees': []}</td>\n",
       "    </tr>\n",
       "    <tr>\n",
       "      <td>3</td>\n",
       "      <td>163537026</td>\n",
       "      <td>answer</td>\n",
       "      <td>normal</td>\n",
       "      <td>{'type': 'question', 'id': 55493026, 'title': ...</td>\n",
       "      <td>{'id': 'eaf435b228ce0b038a4afe8203f59b49', 'ur...</td>\n",
       "      <td>https://www.zhihu.com/api/v4/answers/163537026</td>\n",
       "      <td>False</td>\n",
       "      <td>1493693113</td>\n",
       "      <td>1555137867</td>\n",
       "      <td></td>\n",
       "      <td>True</td>\n",
       "      <td>{'upvoted_followees': []}</td>\n",
       "    </tr>\n",
       "    <tr>\n",
       "      <td>4</td>\n",
       "      <td>873825546</td>\n",
       "      <td>answer</td>\n",
       "      <td>normal</td>\n",
       "      <td>{'type': 'question', 'id': 55493026, 'title': ...</td>\n",
       "      <td>{'id': '4d1c2c77bc7431c2a6006d154198e8b9', 'ur...</td>\n",
       "      <td>https://www.zhihu.com/api/v4/answers/873825546</td>\n",
       "      <td>False</td>\n",
       "      <td>1572318426</td>\n",
       "      <td>1574756054</td>\n",
       "      <td></td>\n",
       "      <td>False</td>\n",
       "      <td>{'upvoted_followees': []}</td>\n",
       "    </tr>\n",
       "  </tbody>\n",
       "</table>\n",
       "</div>"
      ],
      "text/plain": [
       "          id    type answer_type  \\\n",
       "0  683070334  answer      normal   \n",
       "1  163642949  answer      normal   \n",
       "2  637938925  answer      normal   \n",
       "3  163537026  answer      normal   \n",
       "4  873825546  answer      normal   \n",
       "\n",
       "                                            question  \\\n",
       "0  {'type': 'question', 'id': 55493026, 'title': ...   \n",
       "1  {'type': 'question', 'id': 55493026, 'title': ...   \n",
       "2  {'type': 'question', 'id': 55493026, 'title': ...   \n",
       "3  {'type': 'question', 'id': 55493026, 'title': ...   \n",
       "4  {'type': 'question', 'id': 55493026, 'title': ...   \n",
       "\n",
       "                                              author  \\\n",
       "0  {'id': '36f69162230003d316d0b8a6d8da20ba', 'ur...   \n",
       "1  {'id': '788f207a6bf8f66c5bad79bd0f011065', 'ur...   \n",
       "2  {'id': 'e8c4768eaa41e3749f7e8bc5ac6aa74b', 'ur...   \n",
       "3  {'id': 'eaf435b228ce0b038a4afe8203f59b49', 'ur...   \n",
       "4  {'id': '4d1c2c77bc7431c2a6006d154198e8b9', 'ur...   \n",
       "\n",
       "                                              url  is_collapsed  created_time  \\\n",
       "0  https://www.zhihu.com/api/v4/answers/683070334         False    1557824412   \n",
       "1  https://www.zhihu.com/api/v4/answers/163642949         False    1493707703   \n",
       "2  https://www.zhihu.com/api/v4/answers/637938925         False    1554085028   \n",
       "3  https://www.zhihu.com/api/v4/answers/163537026         False    1493693113   \n",
       "4  https://www.zhihu.com/api/v4/answers/873825546         False    1572318426   \n",
       "\n",
       "   updated_time extras  is_copyable               relationship  \n",
       "0    1557824412                True  {'upvoted_followees': []}  \n",
       "1    1493708357               False  {'upvoted_followees': []}  \n",
       "2    1558451618                True  {'upvoted_followees': []}  \n",
       "3    1555137867                True  {'upvoted_followees': []}  \n",
       "4    1574756054               False  {'upvoted_followees': []}  "
      ]
     },
     "execution_count": 2,
     "metadata": {},
     "output_type": "execute_result"
    }
   ],
   "source": [
    "payload = {'key1': 'value1', 'key2': 'value2'}\n",
    "headers = {'user-agent':\n",
    "           'Mozilla/5.0 (Windows NT 10.0; Win64; x64) \\\n",
    "            AppleWebKit/537.36 (KHTML, like Gecko) \\\n",
    "            Chrome/78.0.3904.108 Safari/537.36'}\n",
    "r = requests.get('https://www.zhihu.com/api/v4/questions/55493026/answers',\n",
    "                 params=payload, headers=headers)\n",
    "response = r.text\n",
    "data = json.loads(response)\n",
    "df = pd.DataFrame.from_dict(data['data'])\n",
    "df"
   ]
  },
  {
   "cell_type": "markdown",
   "metadata": {},
   "source": [
    "### 1. 取出知乎問題發問時間"
   ]
  },
  {
   "cell_type": "code",
   "execution_count": 3,
   "metadata": {},
   "outputs": [
    {
     "name": "stdout",
     "output_type": "stream",
     "text": [
      "2017-02-06 14:10:29\n"
     ]
    }
   ],
   "source": [
    "# 1. 取出知乎問題發問時間\n",
    "df_question = pd.DataFrame(df['question'].values.tolist())\n",
    "t = datetime.utcfromtimestamp(df_question.iloc[0]['created'])\n",
    "print(t)"
   ]
  },
  {
   "cell_type": "markdown",
   "metadata": {},
   "source": [
    "### 2. 取出第一筆與最後一筆回答的時間"
   ]
  },
  {
   "cell_type": "code",
   "execution_count": 4,
   "metadata": {},
   "outputs": [
    {
     "name": "stdout",
     "output_type": "stream",
     "text": [
      "第一筆回答的時間:\t2019-05-14 09:00:12\n",
      "最後一筆回答的時間:\t2019-10-29 03:07:06\n"
     ]
    }
   ],
   "source": [
    "# 2. 取出第一筆與最後一筆回答的時間\n",
    "df_answer = pd.DataFrame(df['created_time'].values.tolist())\n",
    "print('第一筆回答的時間:\\t{}\\n最後一筆回答的時間:\\t{}' \\\n",
    "      .format(datetime.utcfromtimestamp(df_answer.iloc[0]), \\\n",
    "              datetime.utcfromtimestamp(df_answer.iloc[-1])))"
   ]
  }
 ],
 "metadata": {
  "kernelspec": {
   "display_name": "Python 3",
   "language": "python",
   "name": "python3"
  },
  "language_info": {
   "codemirror_mode": {
    "name": "ipython",
    "version": 3
   },
   "file_extension": ".py",
   "mimetype": "text/x-python",
   "name": "python",
   "nbconvert_exporter": "python",
   "pygments_lexer": "ipython3",
   "version": "3.7.4"
  }
 },
 "nbformat": 4,
 "nbformat_minor": 2
}
